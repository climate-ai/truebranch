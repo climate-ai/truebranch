{
 "cells": [
  {
   "cell_type": "code",
   "execution_count": 1,
   "metadata": {},
   "outputs": [
    {
     "name": "stdout",
     "output_type": "stream",
     "text": [
      "/Users/Simona\n"
     ]
    }
   ],
   "source": [
    "%cd '/Users/Simona/'"
   ]
  },
  {
   "cell_type": "code",
   "execution_count": 2,
   "metadata": {},
   "outputs": [
    {
     "name": "stderr",
     "output_type": "stream",
     "text": [
      "INFO:root:VERSION 0.9.87.dev4\n"
     ]
    }
   ],
   "source": [
    "%matplotlib inline\n",
    "import numpy as np\n",
    "import torchvision\n",
    "from torchvision import datasets, transforms\n",
    "import torch\n",
    "import torch.nn as nn\n",
    "from PIL import Image\n",
    "import logging\n",
    "import faiss\n",
    "import matplotlib.pyplot as plt\n",
    "from cycler import cycler\n",
    "import record_keeper\n",
    "import pytorch_metric_learning\n",
    "logging.getLogger().setLevel(logging.INFO)\n",
    "logging.info(\"VERSION %s\"%pytorch_metric_learning.__version__)\n",
    "\n",
    "from record_keeper import RecordKeeper, RecordWriter"
   ]
  },
  {
   "cell_type": "code",
   "execution_count": 3,
   "metadata": {},
   "outputs": [],
   "source": [
    "import Classifier_v5\n",
    "from Classifier_v5 import RF\n",
    "from Classifier_v5 import LR\n",
    "from Classifier_v5 import MLP"
   ]
  },
  {
   "cell_type": "code",
   "execution_count": 4,
   "metadata": {},
   "outputs": [],
   "source": [
    "# Set the image transforms\n",
    "# Resnets\n",
    "train_transform = transforms.Compose([transforms.Resize(224),\n",
    "                                    #transforms.RandomResizedCrop(scale=(0.16, 1), ratio=(0.75, 1.33), size=64),\n",
    "                                    #transforms.RandomHorizontalFlip(0.5),\n",
    "                                    transforms.ToTensor(),\n",
    "                                    transforms.Normalize(mean=[0.485, 0.456, 0.406], std=[0.229, 0.224, 0.225])])\n",
    "\n",
    "val_transform = transforms.Compose([transforms.Resize(224),\n",
    "                                    transforms.ToTensor(),\n",
    "                                    transforms.Normalize(mean=[0.485, 0.456, 0.406], std=[0.229, 0.224, 0.225])])\n",
    "\n",
    "\n"
   ]
  },
  {
   "cell_type": "code",
   "execution_count": 5,
   "metadata": {
    "colab": {},
    "colab_type": "code",
    "id": "ptKeW7BwYaRc"
   },
   "outputs": [],
   "source": [
    "train_dataset =  datasets.ImageFolder('/Users/Simona/Fresno_Area/train', transform=train_transform)\n",
    "val_dataset =  datasets.ImageFolder('/Users/Simona/Fresno_Area/val', transform=val_transform)\n",
    "test_dataset =  datasets.ImageFolder('/Users/Simona/Fresno_Area/test', transform=val_transform)"
   ]
  },
  {
   "cell_type": "markdown",
   "metadata": {
    "colab_type": "text",
    "id": "CUB97EZ_noAE"
   },
   "source": [
    "# Resnet50 pretrained on Resisc45"
   ]
  },
  {
   "cell_type": "code",
   "execution_count": 6,
   "metadata": {},
   "outputs": [],
   "source": [
    "X_train = np.loadtxt('/Users/Simona/Fresno_Area/X_train_resnet50resisc45')\n",
    "X_test = np.loadtxt('/Users/Simona/Fresno_Area/X_test_resnet50resisc45')"
   ]
  },
  {
   "cell_type": "code",
   "execution_count": 7,
   "metadata": {},
   "outputs": [],
   "source": [
    "from sklearn import preprocessing\n",
    "min_max_scaler = preprocessing.MinMaxScaler()\n",
    "X_train_minmax = min_max_scaler.fit_transform(X_train)\n",
    "X_test_minmax = min_max_scaler.transform(X_test)"
   ]
  },
  {
   "cell_type": "code",
   "execution_count": 8,
   "metadata": {},
   "outputs": [
    {
     "data": {
      "text/plain": [
       "(2324, 2048)"
      ]
     },
     "execution_count": 8,
     "metadata": {},
     "output_type": "execute_result"
    }
   ],
   "source": [
    "X_train_minmax.shape"
   ]
  },
  {
   "cell_type": "code",
   "execution_count": 9,
   "metadata": {},
   "outputs": [
    {
     "name": "stdout",
     "output_type": "stream",
     "text": [
      "Mean accuracy: 0.8034\n",
      "Standard deviation: 0.0250\n"
     ]
    }
   ],
   "source": [
    "#RF(X_train_minmax,X_test_minmax)\n",
    "#LR(X_train_minmax,X_test_minmax)\n",
    "MLP(X_train_minmax,X_test_minmax)"
   ]
  },
  {
   "cell_type": "markdown",
   "metadata": {},
   "source": [
    "# Resnet18 pretrained on Imagenet"
   ]
  },
  {
   "cell_type": "code",
   "execution_count": null,
   "metadata": {},
   "outputs": [],
   "source": [
    "X_train = np.loadtxt('/Users/Simona/Fresno_Area/X_train_resnet18imagenet')\n",
    "X_test = np.loadtxt('/Users/Simona/Fresno_Area/X_test_resnet18imagenet')"
   ]
  },
  {
   "cell_type": "code",
   "execution_count": null,
   "metadata": {},
   "outputs": [],
   "source": [
    "from sklearn import preprocessing\n",
    "min_max_scaler = preprocessing.MinMaxScaler()\n",
    "X_train_minmax = min_max_scaler.fit_transform(X_train)\n",
    "X_test_minmax = min_max_scaler.transform(X_test)"
   ]
  },
  {
   "cell_type": "code",
   "execution_count": null,
   "metadata": {},
   "outputs": [],
   "source": [
    "X_train_minmax.shape"
   ]
  },
  {
   "cell_type": "code",
   "execution_count": null,
   "metadata": {
    "scrolled": false
   },
   "outputs": [],
   "source": [
    "RF(X_train_minmax,X_test_minmax)\n",
    "LR(X_train_minmax,X_test_minmax)\n",
    "MLP(X_train_minmax,X_test_minmax)"
   ]
  },
  {
   "cell_type": "markdown",
   "metadata": {
    "colab_type": "text",
    "id": "spSVtR8XOvOh"
   },
   "source": [
    "# PCA"
   ]
  },
  {
   "cell_type": "code",
   "execution_count": 18,
   "metadata": {
    "colab": {},
    "colab_type": "code",
    "id": "r1YfCjlhYJQ9"
   },
   "outputs": [],
   "source": [
    "# Set the image transforms\n",
    "# PCA, K-means, Raw\n",
    "train_transform = transforms.Compose([transforms.Resize(50)])\n",
    "                                  \n",
    "val_transform = transforms.Compose([transforms.Resize(50)])"
   ]
  },
  {
   "cell_type": "code",
   "execution_count": 19,
   "metadata": {},
   "outputs": [],
   "source": [
    "train_dataset =  datasets.ImageFolder('/Users/Simona/Fresno_Area/train', transform=train_transform)\n",
    "val_dataset =  datasets.ImageFolder('/Users/Simona/Fresno_Area/val', transform=val_transform)\n",
    "test_dataset =  datasets.ImageFolder('/Users/Simona/Fresno_Area/test', transform=val_transform)"
   ]
  },
  {
   "cell_type": "code",
   "execution_count": 20,
   "metadata": {
    "colab": {},
    "colab_type": "code",
    "id": "OAZCxYXQFehJ"
   },
   "outputs": [],
   "source": [
    "from sklearn.decomposition import PCA\n",
    "pca = PCA(n_components = 0.9)"
   ]
  },
  {
   "cell_type": "code",
   "execution_count": null,
   "metadata": {
    "colab": {},
    "colab_type": "code",
    "id": "O8CgpejzFmgN"
   },
   "outputs": [],
   "source": [
    "# Embed tiles\n",
    "n_tiles = len(train_dataset)\n",
    "z_dim = 3*50*50\n",
    "X_train = np.zeros((n_tiles, z_dim))\n",
    "\n",
    "for idx in range(n_tiles):\n",
    "    tile = train_dataset[idx][0]\n",
    "    tile = np.asarray(tile)\n",
    "    tile = tile/255.0\n",
    "    tile_2d = tile.reshape(z_dim)\n",
    "    tile = tile_2d.reshape(-1, 1)\n",
    "    tile = pca.fit_transform(tile)\n",
    "    tile = np.moveaxis(tile, -1, 0)\n",
    "    X_train[idx,:] = tile"
   ]
  },
  {
   "cell_type": "code",
   "execution_count": null,
   "metadata": {},
   "outputs": [],
   "source": [
    "# Embed tiles\n",
    "n_tiles = len(test_dataset)\n",
    "z_dim = 3*50*50\n",
    "X_test = np.zeros((n_tiles, z_dim))\n",
    "\n",
    "for idx in range(n_tiles):\n",
    "    tile = test_dataset[idx][0]\n",
    "    tile = np.asarray(tile)\n",
    "    tile = tile/255.0\n",
    "    tile_2d = tile.reshape(z_dim)\n",
    "    tile = tile_2d.reshape(-1, 1)\n",
    "    tile = pca.transform(tile)\n",
    "    #tile = pca.fit_transform(tile)\n",
    "    tile = np.moveaxis(tile, -1, 0)\n",
    "    X_test[idx,:] = tile"
   ]
  },
  {
   "cell_type": "code",
   "execution_count": 21,
   "metadata": {},
   "outputs": [
    {
     "data": {
      "text/plain": [
       "dtype('float64')"
      ]
     },
     "execution_count": 21,
     "metadata": {},
     "output_type": "execute_result"
    }
   ],
   "source": [
    "X_train.dtype"
   ]
  },
  {
   "cell_type": "code",
   "execution_count": null,
   "metadata": {},
   "outputs": [],
   "source": [
    "X_test.shape"
   ]
  },
  {
   "cell_type": "code",
   "execution_count": null,
   "metadata": {},
   "outputs": [],
   "source": [
    "np.savetxt('/Users/Simona/Fresno_Area/X_train_PCA3',X_train)\n",
    "np.savetxt('/Users/Simona/Fresno_Area/X_test_PCA3',X_test)"
   ]
  },
  {
   "cell_type": "code",
   "execution_count": 23,
   "metadata": {},
   "outputs": [],
   "source": [
    "X_train = np.loadtxt('/Users/Simona/Fresno_Area/X_train_PCA3')\n",
    "X_test = np.loadtxt('/Users/Simona/Fresno_Area/X_test_PCA3')"
   ]
  },
  {
   "cell_type": "code",
   "execution_count": 24,
   "metadata": {},
   "outputs": [],
   "source": [
    "from sklearn import preprocessing\n",
    "min_max_scaler = preprocessing.MinMaxScaler()\n",
    "X_train_minmax = min_max_scaler.fit_transform(X_train)\n",
    "X_test_minmax = min_max_scaler.transform(X_test)"
   ]
  },
  {
   "cell_type": "code",
   "execution_count": 25,
   "metadata": {},
   "outputs": [
    {
     "name": "stdout",
     "output_type": "stream",
     "text": [
      "Mean accuracy: 0.5003\n",
      "Standard deviation: 0.0128\n"
     ]
    }
   ],
   "source": [
    "#RF(X_train_minmax,X_test_minmax)\n",
    "#LR(X_train_minmax,X_test_minmax)\n",
    "MLP(X_train_minmax,X_test_minmax)"
   ]
  },
  {
   "cell_type": "markdown",
   "metadata": {
    "colab_type": "text",
    "id": "rSrfPRM4XnfS"
   },
   "source": [
    "# K-means"
   ]
  },
  {
   "cell_type": "code",
   "execution_count": 8,
   "metadata": {},
   "outputs": [],
   "source": [
    "X_test_kmeans = np.loadtxt('/Users/Simona/Fresno_Area/X_test_kmeans')\n",
    "X_train_kmeans = np.loadtxt('/Users/Simona/Fresno_Area/X_train_kmeans')"
   ]
  },
  {
   "cell_type": "code",
   "execution_count": 11,
   "metadata": {},
   "outputs": [],
   "source": [
    "from sklearn import preprocessing\n",
    "min_max_scaler = preprocessing.MinMaxScaler()\n",
    "X_train_minmax = min_max_scaler.fit_transform(X_train_kmeans)\n",
    "X_test_minmax = min_max_scaler.transform(X_test_kmeans)"
   ]
  },
  {
   "cell_type": "code",
   "execution_count": 12,
   "metadata": {},
   "outputs": [
    {
     "name": "stdout",
     "output_type": "stream",
     "text": [
      "Mean accuracy: 0.6204\n",
      "Standard deviation: 0.0298\n",
      "Mean accuracy: 0.4991\n",
      "Standard deviation: 0.0062\n",
      "Mean accuracy: 0.5039\n",
      "Standard deviation: 0.0149\n"
     ]
    }
   ],
   "source": [
    "RF(X_train_kmeans,X_test_kmeans)\n",
    "LR(X_train_kmeans,X_test_kmeans)\n",
    "MLP(X_train_kmeans,X_test_kmeans)"
   ]
  },
  {
   "cell_type": "markdown",
   "metadata": {
    "colab_type": "text",
    "id": "U2gMe4at4rFe"
   },
   "source": [
    "# Raw features"
   ]
  },
  {
   "cell_type": "code",
   "execution_count": null,
   "metadata": {
    "colab": {},
    "colab_type": "code",
    "id": "Fd150NBu4qMW"
   },
   "outputs": [],
   "source": [
    "# Embed tiles\n",
    "#Transformations without \"to tensor\"!!\n",
    "\n",
    "n_tiles = len(train_dataset)\n",
    "z_dim = 3*50*50\n",
    "X_train = np.zeros((n_tiles, z_dim))\n",
    "\n",
    "for idx in range(len(train_dataset)):\n",
    "    tile = train_dataset[idx][0]\n",
    "    tile = np.asarray(tile)\n",
    "    tile = tile/255.0\n",
    "    tile_2d = tile.reshape(z_dim)\n",
    "    tile = tile_2d.reshape(-1, 1)\n",
    "    tile = np.moveaxis(tile, -1, 0)\n",
    "    X_train[idx,:] = tile"
   ]
  },
  {
   "cell_type": "code",
   "execution_count": null,
   "metadata": {},
   "outputs": [],
   "source": [
    "n_tiles = len(test_dataset)\n",
    "z_dim = 3*50*50\n",
    "X_test = np.zeros((n_tiles, z_dim))\n",
    "\n",
    "for idx in range(len(test_dataset)):\n",
    "    tile = test_dataset[idx][0]\n",
    "    tile = np.asarray(tile)\n",
    "    tile = tile/255.0\n",
    "    tile_2d = tile.reshape(z_dim)\n",
    "    tile = tile_2d.reshape(-1, 1)\n",
    "    tile = np.moveaxis(tile, -1, 0)\n",
    "    X_test[idx,:] = tile"
   ]
  },
  {
   "cell_type": "code",
   "execution_count": 14,
   "metadata": {},
   "outputs": [
    {
     "data": {
      "text/plain": [
       "(2324, 7500)"
      ]
     },
     "execution_count": 14,
     "metadata": {},
     "output_type": "execute_result"
    }
   ],
   "source": [
    "X_train.shape"
   ]
  },
  {
   "cell_type": "code",
   "execution_count": 15,
   "metadata": {},
   "outputs": [
    {
     "data": {
      "text/plain": [
       "dtype('float64')"
      ]
     },
     "execution_count": 15,
     "metadata": {},
     "output_type": "execute_result"
    }
   ],
   "source": [
    "X_train.dtype"
   ]
  },
  {
   "cell_type": "code",
   "execution_count": null,
   "metadata": {},
   "outputs": [],
   "source": [
    "np.savetxt('/Users/Simona/Fresno_Area/X_train_rawfloat',X_train)\n",
    "np.savetxt('/Users/Simona/Fresno_Area/X_test_rawfloat',X_test)"
   ]
  },
  {
   "cell_type": "code",
   "execution_count": 13,
   "metadata": {},
   "outputs": [],
   "source": [
    "X_test = np.loadtxt('/Users/Simona/Fresno_Area/X_test_rawfloat')\n",
    "X_train = np.loadtxt('/Users/Simona/Fresno_Area/X_train_rawfloat')"
   ]
  },
  {
   "cell_type": "code",
   "execution_count": 16,
   "metadata": {},
   "outputs": [],
   "source": [
    "from sklearn import preprocessing\n",
    "min_max_scaler = preprocessing.MinMaxScaler()\n",
    "X_train_minmax = min_max_scaler.fit_transform(X_train_kmeans)\n",
    "X_test_minmax = min_max_scaler.transform(X_test_kmeans)"
   ]
  },
  {
   "cell_type": "code",
   "execution_count": 17,
   "metadata": {},
   "outputs": [
    {
     "name": "stdout",
     "output_type": "stream",
     "text": [
      "Mean accuracy: 0.6214\n",
      "Standard deviation: 0.0309\n",
      "Mean accuracy: 0.4998\n",
      "Standard deviation: 0.0036\n",
      "Mean accuracy: 0.5052\n",
      "Standard deviation: 0.0165\n"
     ]
    }
   ],
   "source": [
    "RF(X_train_kmeans,X_test_kmeans)\n",
    "LR(X_train_kmeans,X_test_kmeans)\n",
    "MLP(X_train_kmeans,X_test_kmeans)"
   ]
  }
 ],
 "metadata": {
  "colab": {
   "collapsed_sections": [],
   "name": "MSE_Resisc45_NAIP_Sentinel.ipynb",
   "provenance": [],
   "toc_visible": true
  },
  "kernelspec": {
   "display_name": "Python 3",
   "language": "python",
   "name": "python3"
  },
  "language_info": {
   "codemirror_mode": {
    "name": "ipython",
    "version": 3
   },
   "file_extension": ".py",
   "mimetype": "text/x-python",
   "name": "python",
   "nbconvert_exporter": "python",
   "pygments_lexer": "ipython3",
   "version": "3.6.10"
  }
 },
 "nbformat": 4,
 "nbformat_minor": 1
}
