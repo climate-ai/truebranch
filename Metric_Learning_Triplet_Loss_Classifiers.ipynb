{
 "cells": [
  {
   "cell_type": "markdown",
   "metadata": {
    "colab_type": "text",
    "id": "6-P8A5wm-i5O"
   },
   "source": [
    "# PyTorch Metric Learning"
   ]
  },
  {
   "cell_type": "code",
   "execution_count": 1,
   "metadata": {
    "colab": {
     "base_uri": "https://localhost:8080/",
     "height": 34
    },
    "colab_type": "code",
    "id": "567qnmi7wk_M",
    "outputId": "a0df3de9-5d80-432f-da0c-2a24f7cb7d40"
   },
   "outputs": [
    {
     "name": "stderr",
     "output_type": "stream",
     "text": [
      "INFO:root:VERSION 0.9.87.dev4\n"
     ]
    }
   ],
   "source": [
    "%matplotlib inline\n",
    "from pytorch_metric_learning import losses, miners, samplers, trainers, testers\n",
    "from pytorch_metric_learning.utils import common_functions\n",
    "import pytorch_metric_learning.utils.logging_presets as logging_presets\n",
    "import numpy as np\n",
    "import torchvision\n",
    "from torchvision import datasets, transforms\n",
    "import torch\n",
    "import torch.nn as nn\n",
    "from PIL import Image\n",
    "import logging\n",
    "import faiss\n",
    "import matplotlib.pyplot as plt\n",
    "from cycler import cycler\n",
    "import record_keeper\n",
    "import pytorch_metric_learning\n",
    "logging.getLogger().setLevel(logging.INFO)\n",
    "logging.info(\"VERSION %s\"%pytorch_metric_learning.__version__)\n",
    "\n",
    "from record_keeper import RecordKeeper, RecordWriter\n",
    "    "
   ]
  },
  {
   "cell_type": "code",
   "execution_count": 2,
   "metadata": {
    "colab": {},
    "colab_type": "code",
    "id": "5104Kiyxfn48"
   },
   "outputs": [],
   "source": [
    "import Classifier_v5\n",
    "from Classifier_v5 import RF\n",
    "from Classifier_v5 import LR\n",
    "from Classifier_v5 import MLP\n",
    "from Classifier_v5 import SVC"
   ]
  },
  {
   "cell_type": "code",
   "execution_count": 3,
   "metadata": {},
   "outputs": [],
   "source": [
    "# Set the image transforms\n",
    "train_transform = transforms.Compose([transforms.Resize(224),\n",
    "                                    transforms.ToTensor(),\n",
    "                                    transforms.Normalize(mean=[0.485, 0.456, 0.406], std=[0.229, 0.224, 0.225])])\n",
    "\n",
    "val_transform = transforms.Compose([transforms.Resize(224),\n",
    "                                    transforms.ToTensor(),\n",
    "                                    transforms.Normalize(mean=[0.485, 0.456, 0.406], std=[0.229, 0.224, 0.225])])\n",
    "\n",
    "\n",
    "\n"
   ]
  },
  {
   "cell_type": "code",
   "execution_count": 4,
   "metadata": {},
   "outputs": [],
   "source": [
    "train_dataset =  datasets.ImageFolder('/Users/Simona/Fresno_Area/train', transform=train_transform)\n",
    "val_dataset =  datasets.ImageFolder('/Users/Simona/Fresno_Area/val', transform=val_transform)\n",
    "test_dataset =  datasets.ImageFolder('/Users/Simona/Fresno_Area/test', transform=val_transform)"
   ]
  },
  {
   "cell_type": "code",
   "execution_count": 8,
   "metadata": {
    "colab": {},
    "colab_type": "code",
    "id": "foTZJVcgjJu9"
   },
   "outputs": [],
   "source": [
    "#dim64\n",
    "train_emb = np.loadtxt('/Users/Simona/Fresno_Area/train_emb_triplet')\n",
    "train_lab = np.loadtxt('/Users/Simona/Fresno_Area/train_lab_triplet')\n",
    "test_emb = np.loadtxt('/Users/Simona/Fresno_Area/test_emb_triplet')\n",
    "test_lab = np.loadtxt('/Users/Simona/Fresno_Area/test_lab_triplet')"
   ]
  },
  {
   "cell_type": "code",
   "execution_count": 7,
   "metadata": {},
   "outputs": [],
   "source": [
    "#dim1000\n",
    "train_emb = np.loadtxt('/Users/Simona/Fresno_Area/train_emb_triplet1')\n",
    "train_lab = np.loadtxt('/Users/Simona/Fresno_Area/train_lab_triplet1')\n",
    "test_emb = np.loadtxt('/Users/Simona/Fresno_Area/test_emb_triplet1')\n",
    "test_lab = np.loadtxt('/Users/Simona/Fresno_Area/test_lab_triplet1')"
   ]
  },
  {
   "cell_type": "code",
   "execution_count": 11,
   "metadata": {},
   "outputs": [],
   "source": [
    "from sklearn.linear_model import SGDClassifier\n",
    "from sklearn import preprocessing\n",
    "min_max_scaler = preprocessing.MinMaxScaler()\n",
    "X_train_minmax = min_max_scaler.fit_transform(train_emb)\n",
    "X_test_minmax = min_max_scaler.transform(test_emb)"
   ]
  },
  {
   "cell_type": "code",
   "execution_count": 12,
   "metadata": {},
   "outputs": [
    {
     "name": "stdout",
     "output_type": "stream",
     "text": [
      "Mean accuracy: 0.4952\n",
      "Standard deviation: 0.0316\n"
     ]
    }
   ],
   "source": [
    "SVC(X_train_minmax, X_test_minmax)"
   ]
  },
  {
   "cell_type": "code",
   "execution_count": 20,
   "metadata": {
    "scrolled": true
   },
   "outputs": [
    {
     "name": "stdout",
     "output_type": "stream",
     "text": [
      "Mean accuracy: 0.8510\n",
      "Standard deviation: 0.0234\n",
      "Mean accuracy: 0.5022\n",
      "Standard deviation: 0.0192\n",
      "Mean accuracy: 0.7992\n",
      "Standard deviation: 0.0701\n"
     ]
    }
   ],
   "source": [
    "RF(X_train_minmax, X_test_minmax)\n",
    "LR(X_train_minmax, X_test_minmax)\n",
    "MLP(X_train_minmax, X_test_minmax)"
   ]
  }
 ],
 "metadata": {
  "accelerator": "GPU",
  "colab": {
   "collapsed_sections": [],
   "name": "Metric_Learning_Model_Evaluation.ipynb",
   "provenance": []
  },
  "kernelspec": {
   "display_name": "Python 3",
   "language": "python",
   "name": "python3"
  },
  "language_info": {
   "codemirror_mode": {
    "name": "ipython",
    "version": 3
   },
   "file_extension": ".py",
   "mimetype": "text/x-python",
   "name": "python",
   "nbconvert_exporter": "python",
   "pygments_lexer": "ipython3",
   "version": "3.6.10"
  }
 },
 "nbformat": 4,
 "nbformat_minor": 1
}
