{
 "cells": [
  {
   "cell_type": "markdown",
   "metadata": {},
   "source": [
    "# Top 5 accuracy"
   ]
  },
  {
   "cell_type": "code",
   "execution_count": 8,
   "metadata": {},
   "outputs": [],
   "source": [
    "from torchvision import datasets, transforms"
   ]
  },
  {
   "cell_type": "code",
   "execution_count": 13,
   "metadata": {},
   "outputs": [],
   "source": [
    "import numpy as np\n",
    "import scipy"
   ]
  },
  {
   "cell_type": "code",
   "execution_count": 19,
   "metadata": {},
   "outputs": [],
   "source": [
    "test_emb_triplet = np.loadtxt('/Users/Simona/Fresno_Area/test_emb_triplet1')\n",
    "test_lab = np.loadtxt('/Users/Simona/Fresno_Area/test_lab_triplet1')"
   ]
  },
  {
   "cell_type": "code",
   "execution_count": 20,
   "metadata": {},
   "outputs": [
    {
     "data": {
      "text/plain": [
       "(166, 1000)"
      ]
     },
     "execution_count": 20,
     "metadata": {},
     "output_type": "execute_result"
    }
   ],
   "source": [
    "test_emb_triplet.shape"
   ]
  },
  {
   "cell_type": "code",
   "execution_count": 191,
   "metadata": {},
   "outputs": [],
   "source": [
    "test_emb_raw = np.loadtxt('/Users/Simona/Fresno_Area/X_test_raw')"
   ]
  },
  {
   "cell_type": "code",
   "execution_count": 196,
   "metadata": {},
   "outputs": [],
   "source": [
    "test_emb_tile2vec = np.loadtxt('/Users/Simona/Fresno_Area/X_test_tile2vec')"
   ]
  },
  {
   "cell_type": "code",
   "execution_count": 204,
   "metadata": {},
   "outputs": [],
   "source": [
    "test_emb_resnet18 = np.loadtxt('/Users/Simona/Fresno_Area/X_test_resnet18imagenet')"
   ]
  },
  {
   "cell_type": "code",
   "execution_count": 210,
   "metadata": {},
   "outputs": [],
   "source": [
    "test_emb_resnet50 = np.loadtxt('/Users/Simona/Fresno_Area/X_test_resnet50resisc45')"
   ]
  },
  {
   "cell_type": "code",
   "execution_count": 209,
   "metadata": {},
   "outputs": [],
   "source": [
    "test_emb_pca = np.loadtxt('/Users/Simona/Fresno_Area/X_test_PCA')"
   ]
  },
  {
   "cell_type": "code",
   "execution_count": 252,
   "metadata": {},
   "outputs": [],
   "source": [
    "test_emb_kmeans = np.loadtxt('/Users/Simona/Fresno_Area/X_test_kmeans')"
   ]
  },
  {
   "cell_type": "code",
   "execution_count": null,
   "metadata": {},
   "outputs": [],
   "source": [
    "np.savetxt('/content/drive/My Drive/X_test_kmeans',X_test_kmeans)"
   ]
  },
  {
   "cell_type": "code",
   "execution_count": 14,
   "metadata": {},
   "outputs": [],
   "source": [
    "val_transform = transforms.Compose([transforms.Resize(224),\n",
    "                                    transforms.ToTensor(),\n",
    "                                    transforms.Normalize(mean=[0.485, 0.456, 0.406], std=[0.229, 0.224, 0.225])])\n"
   ]
  },
  {
   "cell_type": "code",
   "execution_count": 15,
   "metadata": {},
   "outputs": [],
   "source": [
    "test_dataset =  datasets.ImageFolder('/Users/Simona/Fresno_Area/test', transform=val_transform)"
   ]
  },
  {
   "cell_type": "code",
   "execution_count": 21,
   "metadata": {},
   "outputs": [],
   "source": [
    "test_emb = test_emb_triplet"
   ]
  },
  {
   "cell_type": "code",
   "execution_count": 22,
   "metadata": {},
   "outputs": [],
   "source": [
    "from sklearn import metrics\n",
    "MSE_tot = []\n",
    "labels_tot = []\n",
    "COS_tot = []\n",
    "for i in range(0,len(test_emb),2):\n",
    "    MSE_sameloc = []\n",
    "    labels_list = []\n",
    "    COS_sameloc = []\n",
    "    for j in range(0,len(test_emb),2):\n",
    "        #print(i,j+1)\n",
    "        Feature_vec_drone_img = test_emb[i]\n",
    "        Feature_vec_planet_img = test_emb[j+1]\n",
    "        labels = tuple([test_dataset[i][1],test_dataset[j+1][1]])\n",
    "        labels_list.append(labels)\n",
    "        MSE_sameloc.append(metrics.mean_squared_error(Feature_vec_drone_img, Feature_vec_planet_img))\n",
    "        COS_sameloc.append(1 - scipy.spatial.distance.cosine(Feature_vec_planet_img,Feature_vec_drone_img))\n",
    "    MSE_tot.append(MSE_sameloc)\n",
    "    labels_tot.append(labels_list)\n",
    "    COS_tot.append(COS_sameloc)"
   ]
  },
  {
   "cell_type": "code",
   "execution_count": 23,
   "metadata": {},
   "outputs": [
    {
     "name": "stdout",
     "output_type": "stream",
     "text": [
      "accuracy 71.08433734939759\n"
     ]
    }
   ],
   "source": [
    "#MSE\n",
    "top_5_count_MSE = 0\n",
    "for i in range(0,len(MSE_tot)):\n",
    "    list1 = np.asarray(MSE_tot[i])\n",
    "    list2 = np.asarray(labels_tot[i])\n",
    "    idx   = np.argsort(list1)\n",
    "    list1 = np.array(list1)[idx]\n",
    "    list2 = np.array(list2)[idx]\n",
    "    top_5 = list1[0:5]\n",
    "    top_5_l = list2[0:5]\n",
    "    #print(top_5_l)\n",
    "    for k in range(5):\n",
    "        #print(k)\n",
    "        if top_5_l[k][0] == top_5_l[k][1]:\n",
    "            top_5_count_MSE += 1\n",
    "print(\"accuracy\",top_5_count_MSE/len(MSE_tot)*100)"
   ]
  },
  {
   "cell_type": "code",
   "execution_count": 24,
   "metadata": {},
   "outputs": [
    {
     "name": "stdout",
     "output_type": "stream",
     "text": [
      "accuracy 71.08433734939759\n"
     ]
    }
   ],
   "source": [
    "#COS\n",
    "top_5_count = 0\n",
    "for i in range(len(COS_tot)):\n",
    "    list1 = np.asarray(COS_tot[i])\n",
    "    list2 = np.asarray(labels_tot[i])\n",
    "    idx   = np.argsort(list1)\n",
    "    list1 = np.array(list1)[idx]\n",
    "    list2 = np.array(list2)[idx]\n",
    "    list1 = np.flipud(list1)\n",
    "    list2 = np.flipud(list2)\n",
    "    top_5 = list1[0:5]\n",
    "    top_5_l = list2[0:5]\n",
    "    for k in range(5):\n",
    "        if top_5_l[k][0] == top_5_l[k][1]:\n",
    "            top_5_count += 1\n",
    "print(\"accuracy\",top_5_count/len(COS_tot)*100)"
   ]
  }
 ],
 "metadata": {
  "kernelspec": {
   "display_name": "Python 3",
   "language": "python",
   "name": "python3"
  },
  "language_info": {
   "codemirror_mode": {
    "name": "ipython",
    "version": 3
   },
   "file_extension": ".py",
   "mimetype": "text/x-python",
   "name": "python",
   "nbconvert_exporter": "python",
   "pygments_lexer": "ipython3",
   "version": "3.6.10"
  }
 },
 "nbformat": 4,
 "nbformat_minor": 4
}
