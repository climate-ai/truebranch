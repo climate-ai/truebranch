{
 "cells": [
  {
   "cell_type": "markdown",
   "metadata": {},
   "source": [
    "# Creating Naip and Sentinel Data from existing tif files "
   ]
  },
  {
   "cell_type": "code",
   "execution_count": 42,
   "metadata": {},
   "outputs": [],
   "source": [
    "import numpy as np\n",
    "import tifffile as tiff\n",
    "import scipy\n",
    "from scipy import ndimage\n",
    "import os\n",
    "\n",
    "image_size = 64\n",
    "image_size_s = int(image_size/10)\n",
    "\n",
    "#origin_path = os.getcwd()\n",
    "origin_path = '/Users/Simona'\n",
    "os.chdir(origin_path)\n",
    "\n",
    "sentinel = tiff.imread('Sentinel_31_05_1.tif')\n",
    "sentinel_reshaped = sentinel.reshape(669,669,3)\n",
    "naip = tiff.imread('NAIPFresno.tif')\n",
    "\n",
    "#for i in range(0,5):\n",
    "for i in range(0,int(naip.shape[0]/image_size)):\n",
    "    naip_crop = naip[i*image_size:image_size+i*image_size,i*image_size:image_size+i*image_size,:]\n",
    "    sentinel_crop = sentinel_reshaped[i*image_size_s:image_size_s+i*image_size_s,i*image_size_s:image_size_s+i*image_size_s,:]\n",
    "    sentinel_resized = scipy.ndimage.zoom(sentinel_crop,(10,10,1), order=0)\n",
    "    temp_path = \"NAIPSentinel_64_\"+str(i)\n",
    "    os.makedirs(origin_path+\"/\"+temp_path) \n",
    "    os.chdir(origin_path+\"/\"+temp_path)\n",
    "    tiff.imsave('sentinel_'+str(i)+'.png',sentinel_resized)\n",
    "    tiff.imsave('naip_'+str(i)+'.png',naip_crop)"
   ]
  },
  {
   "cell_type": "code",
   "execution_count": null,
   "metadata": {},
   "outputs": [],
   "source": []
  }
 ],
 "metadata": {
  "kernelspec": {
   "display_name": "Python 3",
   "language": "python",
   "name": "python3"
  },
  "language_info": {
   "codemirror_mode": {
    "name": "ipython",
    "version": 3
   },
   "file_extension": ".py",
   "mimetype": "text/x-python",
   "name": "python",
   "nbconvert_exporter": "python",
   "pygments_lexer": "ipython3",
   "version": "3.6.10"
  }
 },
 "nbformat": 4,
 "nbformat_minor": 4
}
